{
 "cells": [
  {
   "cell_type": "code",
   "execution_count": 27,
   "metadata": {},
   "outputs": [
    {
     "data": {
      "text/plain": [
       "<matplotlib.image.AxesImage at 0x138160b80>"
      ]
     },
     "execution_count": 27,
     "metadata": {},
     "output_type": "execute_result"
    },
    {
     "data": {
      "image/png": "[encoded data removed]",
      "text/plain": [
       "<Figure size 432x288 with 1 Axes>"
      ]
     },
     "metadata": {
      "needs_background": "light"
     },
     "output_type": "display_data"
    }
   ],
   "source": [
    "import cv2\n",
    "import numpy as np\n",
    "import matplotlib.pyplot as plt\n",
    "\n",
    "IMG_DIMS = 32\n",
    "\n",
    "image = cv2.imread('turing.jpg')   \n",
    "\n",
    "image = cv2.resize(image, (IMG_DIMS, IMG_DIMS))\n",
    "\n",
    "gray_image = cv2.cvtColor(image, cv2.COLOR_BGR2GRAY)\n",
    "\n",
    "plt.imshow(gray_image, cmap=\"gray\")\n"
   ]
  },
  {
   "cell_type": "code",
   "execution_count": 28,
   "metadata": {},
   "outputs": [],
   "source": [
    "import itertools\n",
    "import random"
   ]
  },
  {
   "cell_type": "code",
   "execution_count": 29,
   "metadata": {},
   "outputs": [],
   "source": [
    "# global variables\n",
    "NUM_PARENT_MATING = 4\n",
    "MUTATION_PERCENT  = 0.1\n",
    "CHROMOSOME_PER_POPULATION = 16"
   ]
  },
  {
   "cell_type": "code",
   "execution_count": 30,
   "metadata": {},
   "outputs": [],
   "source": [
    "def image_to_vector(image, img_shape):\n",
    "    vec = np.reshape(image, img_shape*img_shape)\n",
    "    return vec\n",
    "def vector_to_image(vec, img_shape):\n",
    "    image = np.reshape(vec, (img_shape, img_shape))\n",
    "    return image"
   ]
  },
  {
   "cell_type": "code",
   "execution_count": 31,
   "metadata": {},
   "outputs": [],
   "source": [
    "def generate_initial_population(img_shape, num_individuals = 8):\n",
    "    np.random.seed(1)\n",
    "    init_pop = np.empty(shape=(num_individuals, img_shape*img_shape),\n",
    "                        dtype=np.uint8)\n",
    "\n",
    "    for i in range(num_individuals):\n",
    "        init_pop[i, :] = np.random.randint(0,256, img_shape*img_shape)\n",
    "    return init_pop\n",
    "    "
   ]
  },
  {
   "cell_type": "code",
   "execution_count": 32,
   "metadata": {},
   "outputs": [],
   "source": [
    "def fitness_values(target, population):\n",
    "    vals = np.zeros(population.shape[0])\n",
    "    for (i, chromosome) in zip(range(len(population)), population):\n",
    "        error = -1 * np.sum(np.abs(target - chromosome))\n",
    "        vals[i] = error\n",
    "    \n",
    "    return vals"
   ]
  },
  {
   "cell_type": "code",
   "execution_count": 33,
   "metadata": {},
   "outputs": [],
   "source": [
    "def best_parents(population, vals, n=2):\n",
    "    parents = []\n",
    "    index = np.argsort(vals)[::-1]\n",
    "    best_index = index[0:n]\n",
    "    for i in best_index:\n",
    "        parents.append(population[i])\n",
    "    parents = np.array(parents)\n",
    "    \n",
    "    return parents"
   ]
  },
  {
   "cell_type": "code",
   "execution_count": 34,
   "metadata": {},
   "outputs": [],
   "source": [
    "def crossover(parents:np.array, img_shape, num_individuals = 8):\n",
    "    new_population = np.empty(shape=(num_individuals, img_shape*img_shape), dtype=np.uint8)\n",
    "    \n",
    "    new_population[0:parents.shape[0], :] = parents\n",
    "    \n",
    "    num_newly_generated = num_individuals = parents.shape[0]\n",
    "    \n",
    "    parents_permutations = list(itertools.permutations(iterable=np.arange(0, parents.shape[0]), r = 2))\n",
    "    \n",
    "    selected_permutations = random.sample(range(len(parents_permutations)), num_newly_generated)    \n",
    "    \n",
    "    comb_idx = parents.shape[0]\n",
    "    \n",
    "    for comb in range(len(selected_permutations)):\n",
    "        selected_comb_idx = selected_permutations[comb]\n",
    "        selected_comb     = parents_permutations[selected_comb_idx]\n",
    "        cross_size = np.int32(new_population.shape[1]/ 50)\n",
    "        new_population[comb_idx+comb, 0:cross_size] = parents[selected_comb[0],0:cross_size]\n",
    "        new_population[comb_idx+comb, cross_size: ] = parents[selected_comb[1],cross_size: ]\n",
    "    return new_population"
   ]
  },
  {
   "cell_type": "code",
   "execution_count": 35,
   "metadata": {},
   "outputs": [],
   "source": [
    "def mutation(population, num_parent_mating, mut_percent):\n",
    "    for indx in range(num_parent_mating, population.shape[0]):\n",
    "        rand_indx = np.int32(\n",
    "            np.random.random(size = np.int32(mut_percent/100 * population.shape[1])) * population.shape[1]\n",
    "        )\n",
    "        new_values = np.random.randint(0,256, len(rand_indx))\n",
    "        population[indx, rand_indx] = new_values\n",
    "     \n",
    "    return population"
   ]
  },
  {
   "cell_type": "code",
   "execution_count": 36,
   "metadata": {},
   "outputs": [],
   "source": [
    "target = image_to_vector(gray_image, IMG_DIMS)\n",
    "population = generate_initial_population(IMG_DIMS,CHROMOSOME_PER_POPULATION)\n",
    "for iteration in range(100000):\n",
    "    vals = fitness_values(target, population)\n",
    "    parents = best_parents(population, vals, 4)\n",
    "    population = crossover(parents, IMG_DIMS, CHROMOSOME_PER_POPULATION)\n",
    "    population = mutation(population, NUM_PARENT_MATING, MUTATION_PERCENT)"
   ]
  },
  {
   "cell_type": "code",
   "execution_count": 37,
   "metadata": {},
   "outputs": [
    {
     "data": {
      "image/png": "[encoded data removed]",
      "text/plain": [
       "<Figure size 432x288 with 2 Axes>"
      ]
     },
     "metadata": {
      "needs_background": "light"
     },
     "output_type": "display_data"
    }
   ],
   "source": [
    "best_solution = population[np.where(vals == np.max(vals))[0][0],: ]\n",
    "best_solution_image = vector_to_image(best_solution, IMG_DIMS)\n",
    "plt.subplot(1,2,1).imshow(gray_image, cmap=\"gray\")\n",
    "plt.subplot(1,2,2).imshow(best_solution_image, cmap=\"gray\")\n",
    "plt.savefig(\"result.jpg\")"
   ]
  },
  {
   "cell_type": "code",
   "execution_count": 38,
   "metadata": {},
   "outputs": [
    {
     "data": {
      "text/plain": [
       "0.5888671875"
      ]
     },
     "execution_count": 38,
     "metadata": {},
     "output_type": "execute_result"
    }
   ],
   "source": [
    "sum(best_solution == target) / IMG_DIMS**2"
   ]
  }
 ],
 "metadata": {
  "kernelspec": {
   "display_name": "Python 3",
   "language": "python",
   "name": "python3"
  },
  "language_info": {
   "codemirror_mode": {
    "name": "ipython",
    "version": 3
   },
   "file_extension": ".py",
   "mimetype": "text/x-python",
   "name": "python",
   "nbconvert_exporter": "python",
   "pygments_lexer": "ipython3",
   "version": "3.9.13"
  },
  "orig_nbformat": 4,
  "vscode": {
   "interpreter": {
    "hash": "b0fa6594d8f4cbf19f97940f81e996739fb7646882a419484c72d19e05852a7e"
   }
  }
 },
 "nbformat": 4,
 "nbformat_minor": 2
}
